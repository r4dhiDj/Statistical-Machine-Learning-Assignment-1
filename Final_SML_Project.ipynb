{
  "nbformat": 4,
  "nbformat_minor": 0,
  "metadata": {
    "colab": {
      "name": "Final SML Project.ipynb",
      "provenance": [],
      "collapsed_sections": []
    },
    "kernelspec": {
      "name": "python3",
      "display_name": "Python 3"
    }
  },
  "cells": [
    {
      "cell_type": "code",
      "metadata": {
        "id": "3iThovTxPs92",
        "colab_type": "code",
        "colab": {
          "base_uri": "https://localhost:8080/",
          "height": 34
        },
        "outputId": "e3a51e85-d367-4981-b110-b288f36a876f"
      },
      "source": [
        "from google.colab import drive\n",
        "drive.mount('/content/drive', force_remount=True)"
      ],
      "execution_count": 1,
      "outputs": [
        {
          "output_type": "stream",
          "text": [
            "Mounted at /content/drive\n"
          ],
          "name": "stdout"
        }
      ]
    },
    {
      "cell_type": "code",
      "metadata": {
        "id": "vBUFhZ9iPzis",
        "colab_type": "code",
        "colab": {
          "base_uri": "https://localhost:8080/",
          "height": 154
        },
        "outputId": "cf233a6d-a4ca-4543-8898-532d69b73afb"
      },
      "source": [
        "!pip install python-igraph"
      ],
      "execution_count": 2,
      "outputs": [
        {
          "output_type": "stream",
          "text": [
            "Collecting python-igraph\n",
            "\u001b[?25l  Downloading https://files.pythonhosted.org/packages/8b/74/24a1afbf3abaf1d5f393b668192888d04091d1a6d106319661cd4af05406/python_igraph-0.8.2-cp36-cp36m-manylinux2010_x86_64.whl (3.2MB)\n",
            "\u001b[K     |████████████████████████████████| 3.2MB 5.2MB/s \n",
            "\u001b[?25hCollecting texttable>=1.6.2\n",
            "  Downloading https://files.pythonhosted.org/packages/06/f5/46201c428aebe0eecfa83df66bf3e6caa29659dbac5a56ddfd83cae0d4a4/texttable-1.6.3-py2.py3-none-any.whl\n",
            "Installing collected packages: texttable, python-igraph\n",
            "Successfully installed python-igraph-0.8.2 texttable-1.6.3\n"
          ],
          "name": "stdout"
        }
      ]
    },
    {
      "cell_type": "code",
      "metadata": {
        "id": "RXa4yqhqP34z",
        "colab_type": "code",
        "colab": {}
      },
      "source": [
        "import pandas as pd\n",
        "import numpy as np\n",
        "import random\n",
        "from tqdm import tqdm\n",
        "import re\n",
        "import igraph as ig\n",
        "import math\n",
        "\n",
        "from sklearn.model_selection import train_test_split\n",
        "from sklearn.metrics import classification_report, roc_auc_score, confusion_matrix\n",
        "from sklearn.linear_model import LogisticRegression\n",
        "from sklearn.model_selection import RepeatedStratifiedKFold, GridSearchCV\n",
        "from sklearn.tree import DecisionTreeClassifier\n",
        "from sklearn.naive_bayes import GaussianNB, MultinomialNB\n",
        "from sklearn.neighbors import KNeighborsClassifier\n",
        "from sklearn.ensemble import AdaBoostClassifier, RandomForestClassifier, GradientBoostingClassifier,BaggingClassifier,VotingClassifier\n",
        "from sklearn.preprocessing import StandardScaler\n",
        "from sklearn.pipeline import Pipeline\n",
        "import xgboost as xgb"
      ],
      "execution_count": 3,
      "outputs": []
    },
    {
      "cell_type": "code",
      "metadata": {
        "id": "VHUkZRBlP5tZ",
        "colab_type": "code",
        "colab": {}
      },
      "source": [
        "# Training set file\n",
        "TRAIN_FILE = '/content/drive/My Drive/Colab Notebooks/train.txt'\n",
        "TEST_FILE = '/content/drive/My Drive/Colab Notebooks/test-public.txt'\n",
        "Total_edges_used_for_training_for_each_class = 50000\n",
        "Submission_file_using_bagging_classifier = '/content/drive/My Drive/Colab Notebooks/submission_bagging.csv'\n",
        "Submission_file_using_XGB_and_AGA = '/content/drive/My Drive/Colab Notebooks/submission_voting_XGB_ADA.csv'"
      ],
      "execution_count": 4,
      "outputs": []
    },
    {
      "cell_type": "code",
      "metadata": {
        "id": "z_39LKDzQA9C",
        "colab_type": "code",
        "colab": {}
      },
      "source": [
        "def read_datafile(file, header = False):\n",
        "\n",
        "    source_nodes = set()\n",
        "    destination_dict = {}       # How many sources follow a given destination node \n",
        "    source_follow_count_dict = {}         # How many destination nodes does each source follow\n",
        "\n",
        "    dataset = open(file)\n",
        "    if header:\n",
        "      next(dataset)\n",
        "\n",
        "    # Creates a dictionary with destination values and count its frequencies. In addition, creates a set with all root nodes\n",
        "    for lines in dataset:\n",
        "        node_list = lines.strip().split('\\t')\n",
        "        source_nodes.add(node_list[0])\n",
        "        \n",
        "        for node in node_list[1:]:\n",
        "            destination_dict[node] = destination_dict.get(node,0) + 1\n",
        "        \n",
        "        source_follow_count_dict[node_list[0]] = len(node_list[1:])\n",
        "\n",
        "    return source_nodes, destination_dict, source_follow_count_dict"
      ],
      "execution_count": 5,
      "outputs": []
    },
    {
      "cell_type": "code",
      "metadata": {
        "id": "d-T-R4ycQMQs",
        "colab_type": "code",
        "colab": {
          "base_uri": "https://localhost:8080/",
          "height": 67
        },
        "outputId": "5bfbf0d5-a23c-4b43-f6bb-c3890f08258b"
      },
      "source": [
        "# Read training data \n",
        "source_nodes, destination_dict, source_follow_count_dict = read_datafile(TRAIN_FILE)\n",
        "\n",
        "print (\"Total Source nodes: %s\" % (len(source_nodes)))\n",
        "print (\"Total Destination nodes: %s\" % (len(destination_dict)))\n",
        "print (\"Total edges: %s\" % (sum(source_follow_count_dict.values())))"
      ],
      "execution_count": 40,
      "outputs": [
        {
          "output_type": "stream",
          "text": [
            "Total Source nodes: 20000\n",
            "Total Destination nodes: 4867136\n",
            "Total edges: 24004361\n"
          ],
          "name": "stdout"
        }
      ]
    },
    {
      "cell_type": "code",
      "metadata": {
        "id": "-n4qh4GLQWyu",
        "colab_type": "code",
        "colab": {}
      },
      "source": [
        "def filter_destination_Nodes(destination_dict, min_followers = 10):\n",
        "\n",
        "    new_destination_dict = {}\n",
        "\n",
        "    # Filters the data by removing nodes that are being followed less than a threshold (default = 10)\n",
        "    for key in destination_dict:\n",
        "        if destination_dict[key] >= min_followers:\n",
        "            new_destination_dict[key] = destination_dict[key]\n",
        "    \n",
        "    return new_destination_dict"
      ],
      "execution_count": 7,
      "outputs": []
    },
    {
      "cell_type": "code",
      "metadata": {
        "id": "G4Rnhic2Qe3H",
        "colab_type": "code",
        "colab": {
          "base_uri": "https://localhost:8080/",
          "height": 50
        },
        "outputId": "030d2ae8-51db-4924-e095-d5ebbea13d46"
      },
      "source": [
        "new_destination_dict = filter_destination_Nodes(destination_dict,10)\n",
        "\n",
        "print(\"Destination nodes after filter:  %s\" % (len(new_destination_dict)))\n",
        "print(\"Total nodes after filter: %s\" % (len(new_destination_dict) + len(source_nodes)))"
      ],
      "execution_count": 8,
      "outputs": [
        {
          "output_type": "stream",
          "text": [
            "Destination nodes after filter:  394342\n",
            "Total nodes after filter: 414342\n"
          ],
          "name": "stdout"
        }
      ]
    },
    {
      "cell_type": "code",
      "metadata": {
        "id": "MCr7PGx6QhAF",
        "colab_type": "code",
        "colab": {
          "base_uri": "https://localhost:8080/",
          "height": 50
        },
        "outputId": "a3bd3a3b-9a15-4329-eec6-6c5025355846"
      },
      "source": [
        "#Add nodes if filtered which are in test set\n",
        "test_source_nodes, test_destination_dict, test_source_follow_count_dict = read_datafile(TEST_FILE,True)\n",
        "print(\"Total source nodes in test file:  %s\" % (len(test_source_nodes)))\n",
        "\n",
        "nodes_in_train_after_filtering = list(source_nodes) + list(set(new_destination_dict.keys()) - source_nodes)\n",
        "\n",
        "nodes_in_test_file = list(test_source_nodes) + list(set(test_destination_dict.keys()) - test_source_nodes)\n",
        "\n",
        "total_nodes = nodes_in_train_after_filtering + list(set(nodes_in_test_file) - set(nodes_in_train_after_filtering))\n",
        "print(\"Total nodes (source + destination) to be used in training:  %s\" % (len(total_nodes)))"
      ],
      "execution_count": 9,
      "outputs": [
        {
          "output_type": "stream",
          "text": [
            "Total source nodes in test file:  2000\n",
            "Total nodes (source + destination) to be used in training:  401221\n"
          ],
          "name": "stdout"
        }
      ]
    },
    {
      "cell_type": "code",
      "metadata": {
        "id": "hwNoWqN4Sm52",
        "colab_type": "code",
        "colab": {}
      },
      "source": [
        "def build_index_for_unique_id(node_list):\n",
        "    index = {}\n",
        "    inv_index = {}\n",
        "\n",
        "    for i, node in enumerate(node_list):\n",
        "        index[i] = node\n",
        "        inv_index[node] = i\n",
        "    \n",
        "    return index, inv_index"
      ],
      "execution_count": 10,
      "outputs": []
    },
    {
      "cell_type": "code",
      "metadata": {
        "id": "2xZGj9ZIkUHU",
        "colab_type": "code",
        "colab": {
          "base_uri": "https://localhost:8080/",
          "height": 34
        },
        "outputId": "bda26057-b6ae-4bc5-9490-7c3cdd47182c"
      },
      "source": [
        "# Create an index and an inverted index, in order to have a unique Id for each node\n",
        "index, inv_index = build_index_for_unique_id(total_nodes)\n",
        "print(\"Length of index:  %s\" % (len(index)))"
      ],
      "execution_count": 11,
      "outputs": [
        {
          "output_type": "stream",
          "text": [
            "Length of index:  401221\n"
          ],
          "name": "stdout"
        }
      ]
    },
    {
      "cell_type": "code",
      "metadata": {
        "id": "RSDsWBzakn1J",
        "colab_type": "code",
        "colab": {}
      },
      "source": [
        "def BinarySearch(lys, val):\n",
        "    first = 0\n",
        "    last = len(lys)-1\n",
        "    index = -1\n",
        "    while (first <= last) and (index == -1):\n",
        "        mid = (first+last)//2\n",
        "        if lys[mid] == val:\n",
        "            index = mid\n",
        "        else:\n",
        "            if val<lys[mid]:\n",
        "                last = mid -1\n",
        "            else:\n",
        "                first = mid +1\n",
        "    return index"
      ],
      "execution_count": 12,
      "outputs": []
    },
    {
      "cell_type": "code",
      "metadata": {
        "id": "AyY4Stvskqxs",
        "colab_type": "code",
        "colab": {}
      },
      "source": [
        "def build_tuples(file, destination_dict, total_nodes, inv_index, max_neighbours=1000, Total_edges_used_for_training_of_each_class = 50000):\n",
        "    \n",
        "    tuples = []\n",
        "    train_tuples = []\n",
        "\n",
        "    total_nodes.sort()\n",
        "\n",
        "    # In case a source node have more than 1000 followers, we only consider max_neighbours (default = 1000)\n",
        "    with open(file) as train_data:\n",
        "        for lines in tqdm(train_data):\n",
        "            node_list = lines[:-1].split('\\t')\n",
        "            source_node = node_list[0]\n",
        "            \n",
        "            if len(node_list[1:]) > max_neighbours:\n",
        "              # We rank the nodes based on the frequency\n",
        "              rank = [-destination_dict[destnode] for destnode in node_list[1:]]              \n",
        "              sort_function = np.argsort(rank)\n",
        "              filtered_destination_list = np.array(node_list[1:])[sort_function]\n",
        "              # print(filtered_destination_list)\n",
        "            else:\n",
        "              filtered_destination_list = node_list[1:]\n",
        "\n",
        "            # We only keep the top 1000 nodes and create the tuples for them\n",
        "            for dest_node in filtered_destination_list[0:max_neighbours]:\n",
        "                if BinarySearch(total_nodes, dest_node) != -1:\n",
        "                    tuples.append((inv_index[source_node], inv_index[dest_node]))\n",
        "    \n",
        "    if Total_edges_used_for_training_of_each_class:\n",
        "        train_tuples = random.sample(tuples, Total_edges_used_for_training_of_each_class)\n",
        "    \n",
        "    return tuples, train_tuples"
      ],
      "execution_count": 13,
      "outputs": []
    },
    {
      "cell_type": "code",
      "metadata": {
        "id": "_qudihiPlKAl",
        "colab_type": "code",
        "colab": {
          "base_uri": "https://localhost:8080/",
          "height": 67
        },
        "outputId": "451ab26a-cf41-490d-8980-5347223844ab"
      },
      "source": [
        "tuples, train_tuples = build_tuples(TRAIN_FILE, destination_dict, total_nodes, inv_index, max_neighbours=2000, Total_edges_used_for_training_of_each_class=Total_edges_used_for_training_for_each_class)\n",
        "\n",
        "print (\"All Tuples (source, destination): %s\" % (len(tuples)))\n",
        "print (\"Random Train set Tuples (source, destination): %s\" % (len(train_tuples)))"
      ],
      "execution_count": 14,
      "outputs": [
        {
          "output_type": "stream",
          "text": [
            "20000it [01:20, 247.23it/s]"
          ],
          "name": "stderr"
        },
        {
          "output_type": "stream",
          "text": [
            "All Tuples (source, destination): 6792218\n",
            "Random Train set Tuples (source, destination): 1000\n"
          ],
          "name": "stdout"
        },
        {
          "output_type": "stream",
          "text": [
            "\n"
          ],
          "name": "stderr"
        }
      ]
    },
    {
      "cell_type": "code",
      "metadata": {
        "id": "V9Z7CpSqlUxQ",
        "colab_type": "code",
        "colab": {}
      },
      "source": [
        "def build_igGraph(tuple_list, nodes):\n",
        "    \n",
        "    # Create a new igGraph object\n",
        "    G = ig.Graph(directed = True)\n",
        "    for node in nodes:\n",
        "        G.add_vertex(node)\n",
        "    \n",
        "    G.add_edges(tuple_list)\n",
        "                \n",
        "    return G"
      ],
      "execution_count": 15,
      "outputs": []
    },
    {
      "cell_type": "code",
      "metadata": {
        "id": "ocVT_BvalfI0",
        "colab_type": "code",
        "colab": {
          "base_uri": "https://localhost:8080/",
          "height": 67
        },
        "outputId": "1b6e965a-c87d-4e98-e889-e75a47f918fe"
      },
      "source": [
        "graph = build_igGraph(tuples, index.keys())\n",
        "print (\"Graph Ready\")\n",
        "ig.summary(graph)"
      ],
      "execution_count": 16,
      "outputs": [
        {
          "output_type": "stream",
          "text": [
            "Graph Ready\n",
            "IGRAPH DN-- 401221 6792218 -- \n",
            "+ attr: name (v)\n"
          ],
          "name": "stdout"
        }
      ]
    },
    {
      "cell_type": "code",
      "metadata": {
        "id": "6_fj_Beul2GI",
        "colab_type": "code",
        "colab": {}
      },
      "source": [
        "def build_fakeEdge(G, source_nodes, inv_index, No_of_true_positive_edges, tuples):\n",
        "\n",
        "  fake_tuple_list = []\n",
        "  filtered_fake_tuple_list = []\n",
        "\n",
        "  for i in tqdm(range(0,No_of_true_positive_edges)):\n",
        "\n",
        "    n1 = inv_index[np.random.choice(list(source_nodes))] #node 1 from source list\n",
        "    n2 = random.randint(0, len(inv_index.values()))   \n",
        "    fake_tuple_list.append((n1,n2))\n",
        "\n",
        "      \n",
        "  filtered_fake_tuple_list = list(set(fake_tuple_list).difference(set(tuples)))\n",
        "  \n",
        "          \n",
        "  return filtered_fake_tuple_list"
      ],
      "execution_count": 17,
      "outputs": []
    },
    {
      "cell_type": "code",
      "metadata": {
        "id": "wR0Eqz46mMip",
        "colab_type": "code",
        "colab": {
          "base_uri": "https://localhost:8080/",
          "height": 50
        },
        "outputId": "79ff84eb-fe1b-4bb0-811a-8f063e478f8d"
      },
      "source": [
        "fake_tuple_list = build_fakeEdge(graph, source_nodes,  inv_index, len(train_tuples), tuples)\n",
        "print (\"Fake Tuples:\\t%s\" % (len(fake_tuple_list)))"
      ],
      "execution_count": 18,
      "outputs": [
        {
          "output_type": "stream",
          "text": [
            "100%|██████████| 1000/1000 [00:04<00:00, 233.34it/s]\n"
          ],
          "name": "stderr"
        },
        {
          "output_type": "stream",
          "text": [
            "Fake Tuples:\t999\n"
          ],
          "name": "stdout"
        }
      ]
    },
    {
      "cell_type": "code",
      "metadata": {
        "id": "ExuNyEahm12i",
        "colab_type": "code",
        "colab": {}
      },
      "source": [
        "def friends_measure(graph, all_node_1, all_node_2):\n",
        "  \n",
        "    count = 0\n",
        "  \n",
        "    for edges_node_1 in all_node_1:\n",
        "        for edges_node_2 in all_node_2:\n",
        "            if (edges_node_1 == edges_node_2) or graph.are_connected(edges_node_1, edges_node_2) or graph.are_connected(edges_node_2, edges_node_1):\n",
        "                count+=1\n",
        "                \n",
        "    return count"
      ],
      "execution_count": 19,
      "outputs": []
    },
    {
      "cell_type": "code",
      "metadata": {
        "id": "n4IkwN83nEOl",
        "colab_type": "code",
        "colab": {}
      },
      "source": [
        "def build_Features(G, edge_list):\n",
        "  common_inbound_friends = []\n",
        "  common_outbound_friends = []\n",
        "  common_friends = []\n",
        "  friend_measure = []\n",
        "  preferential_attachment = []\n",
        "  inverse_flag = []\n",
        "  in_degree_node_1 = []\n",
        "  in_degree_node_2 = []\n",
        "  out_degree_node_1 = []\n",
        "  out_degree_node_2 = []\n",
        "  bi_degree_node_1 = []\n",
        "  bi_degree_node_2 = []\n",
        "  # shortest_paths = []\n",
        "  # adamic_adar_index = []\n",
        "  # jaccard_similarity_index = []\n",
        "  # preferential_attachment_score = []\n",
        "  # friend_tns = []\n",
        "  # similarity_dice_in = []\n",
        "  # similarity_dice_out = []\n",
        "  # similarity_dice_combined =[]\n",
        "\n",
        "  \n",
        "  # similarity_dice_in = graph.similarity_dice(pairs=edge_list,mode=ig.IN)\n",
        "  # similarity_dice_out = graph.similarity_dice(pairs=edge_list,mode=ig.OUT)\n",
        "  # similarity_dice_combined = graph.similarity_dice(pairs=edge_list,mode=ig.ALL)\n",
        "\n",
        "\n",
        "  for i, edge in tqdm(enumerate(edge_list)):\n",
        "    node_1, node_2 = edge\n",
        "    \n",
        "    # Common calculations\n",
        "    predecessor_of_node_1 = set(G.predecessors(node_1))\n",
        "    successor_of_node_1 = set(G.successors(node_1))\n",
        "    predecessor_of_node_2 = set(G.predecessors(node_2))\n",
        "    successor_of_node_2 = set(G.successors(node_2))\n",
        "    all_node_1 = predecessor_of_node_1.union(successor_of_node_1)\n",
        "    all_node_2 = predecessor_of_node_2.union(successor_of_node_2)\n",
        "    common_nodes = all_node_1.intersection(all_node_2)\n",
        "    all_nodes = all_node_1.union(all_node_2)\n",
        "\n",
        "    # Features\n",
        "    inverse_flag.append(np.int(G.are_connected(node_2,node_1)))\n",
        "\n",
        "    common_outbound_friends.append(len(successor_of_node_1.intersection(successor_of_node_2)))\n",
        "    common_inbound_friends.append(len(predecessor_of_node_1.intersection(predecessor_of_node_2)))\n",
        "    common_friends.append(len(all_node_1.union(all_node_2)))\n",
        "    friend_measure.append(friends_measure(G, all_node_1,all_node_2))\n",
        "\n",
        "    in_degree_node_1.append(len(predecessor_of_node_1))\n",
        "    in_degree_node_2.append(len(predecessor_of_node_2))\n",
        "    out_degree_node_1.append(len(successor_of_node_1))\n",
        "    out_degree_node_2.append(len(successor_of_node_2))\n",
        "    bi_degree_node_1.append(len(successor_of_node_1.intersection(predecessor_of_node_1)))\n",
        "    bi_degree_node_2.append(len(successor_of_node_2.intersection(predecessor_of_node_2)))\n",
        "    # shortest_paths.append(G.shortest_paths(source = node_1, target = node_2)[0][0])\n",
        "\n",
        "\n",
        "    # adamic_adar = sum([1.0/math.log(graph.degree(v)) for v in common_nodes])\n",
        "    # if len(all_nodes) == 0:\n",
        "    #   jaccard_similarity = 0\n",
        "    # else:\n",
        "    #   jaccard_similarity = len(common_nodes)/ float(len(all_nodes))\n",
        "\n",
        "    # if len(all_node_1) + len(all_node_2) == 1:\n",
        "    #   friend = 0\n",
        "    # else:\n",
        "    #   friend =  round((1.0/(len(all_node_1) + len(all_node_2) - 1.0)),3)\n",
        "\n",
        "    # preferential_attachment = len(all_node_1) * len(all_node_2)\n",
        "    # adamic_adar_index.append(adamic_adar)\n",
        "    # jaccard_similarity_index.append(jaccard_similarity)\n",
        "    # preferential_attachment_score.append(preferential_attachment)\n",
        "    # friend_tns.append(friend) \n",
        "  return common_inbound_friends, common_outbound_friends, common_friends, friend_measure, inverse_flag, in_degree_node_1, in_degree_node_2, out_degree_node_1, out_degree_node_2, bi_degree_node_1, bi_degree_node_2\n",
        "  # return common_inbound_friends, common_outbound_friends, common_friends, friend_measure, inverse_flag, in_degree_node_1, in_degree_node_2, out_degree_node_1, out_degree_node_2, bi_degree_node_1, bi_degree_node_2, shortest_paths, adamic_adar_index, jaccard_similarity_index, preferential_attachment_score, friend_tns, similarity_dice_in, similarity_dice_out, similarity_dice_combined"
      ],
      "execution_count": 20,
      "outputs": []
    },
    {
      "cell_type": "code",
      "metadata": {
        "id": "Qybrn2B3n-56",
        "colab_type": "code",
        "colab": {
          "base_uri": "https://localhost:8080/",
          "height": 50
        },
        "outputId": "803e928b-97eb-488b-968c-d7bcc522981f"
      },
      "source": [
        "full_tuple_list = train_tuples + fake_tuple_list\n",
        "label = np.concatenate((np.ones(len(train_tuples), dtype=int), np.zeros(len(fake_tuple_list), dtype=int)))\n",
        "\n",
        "# We create full list index\n",
        "full_list_index = {}\n",
        "full_list_inv_index = {}\n",
        "\n",
        "for i, tuple in enumerate(full_tuple_list):\n",
        "    full_list_index[i] = tuple\n",
        "    full_list_inv_index[tuple] = i\n",
        "\n",
        "print (\"label list: %s\" % (len(label)))\n",
        "print (\"Total Tuples list: %s\" % (len(full_tuple_list)))"
      ],
      "execution_count": 21,
      "outputs": [
        {
          "output_type": "stream",
          "text": [
            "label list: 1999\n",
            "Total Tuples list: 1999\n"
          ],
          "name": "stdout"
        }
      ]
    },
    {
      "cell_type": "code",
      "metadata": {
        "id": "xk8INrM1oFSA",
        "colab_type": "code",
        "colab": {
          "base_uri": "https://localhost:8080/",
          "height": 34
        },
        "outputId": "3a216fae-0217-4b90-c1bb-02c691056cd9"
      },
      "source": [
        "#FEATURE Engineering\n",
        "\n",
        "# We create a pandas dataframe with the training set tuples\n",
        "ids = np.array(list(full_list_index.keys()))\n",
        "source_destination_nodes = np.array(full_tuple_list)\n",
        "\n",
        "common_inbound_friends, common_outbound_friends, common_friends, friend_measure, inverse_flag, in_degree_node_1, in_degree_node_2, out_degree_node_1, out_degree_node_2, bi_degree_node_1, bi_degree_node_2 = build_Features(graph, full_tuple_list)\n",
        "# common_inbound_friends, common_outbound_friends, common_friends, friend_measure, inverse_flag, in_degree_node_1, in_degree_node_2, out_degree_node_1, out_degree_node_2, bi_degree_node_1, bi_degree_node_2, shortest_paths, adamic_adar_index, jaccard_similarity_index, preferential_attachment_score, friend_tns, similarity_dice_in, similarity_dice_out, similarity_dice_combined = build_Features(graph, full_tuple_list)"
      ],
      "execution_count": 22,
      "outputs": [
        {
          "output_type": "stream",
          "text": [
            "1999it [05:16,  6.32it/s] \n"
          ],
          "name": "stderr"
        }
      ]
    },
    {
      "cell_type": "code",
      "metadata": {
        "id": "MYQ6wzGaoLk9",
        "colab_type": "code",
        "colab": {
          "base_uri": "https://localhost:8080/",
          "height": 202
        },
        "outputId": "c7beb93a-c705-40c1-e8db-af0d6a13c39d"
      },
      "source": [
        "print(\"Length of common_inbound_friends : %s\" %len(common_inbound_friends))\n",
        "print(\"Length of common_outbound_friends : %s\" %len(common_outbound_friends))\n",
        "print(\"Length of common_friends : %s\" %len(common_friends))\n",
        "print(\"Length of friend_measure : %s\" %len(friend_measure))\n",
        "print(\"Length of inverse_flag : %s\" %len(inverse_flag))\n",
        "print(\"Length of in_degree_node_1 : %s\" %len(in_degree_node_1))\n",
        "print(\"Length of in_degree_node_2 : %s\" %len(in_degree_node_2))\n",
        "print(\"Length of out_degree_node_1 : %s\" %len(out_degree_node_1))\n",
        "print(\"Length of out_degree_node_2 : %s\" %len(out_degree_node_2))\n",
        "print(\"Length of bi_degree_node_1 : %s\" %len(bi_degree_node_1))\n",
        "print(\"Length of bi_degree_node_2 : %s\" %len(bi_degree_node_2))\n",
        "# print(\"Length of shortest_paths : %s\" %len(shortest_paths))\n",
        "# print(\"Length of adamic_adar_index : %s\" %len(adamic_adar_index))\n",
        "# print(\"Length of jaccard_similarity_index : %s\" %len(jaccard_similarity_index))\n",
        "# print(\"Length of preferential_attachment_score : %s\" %len(preferential_attachment_score))\n",
        "# print(\"Length of friend_tns : %s\" %len(friend_tns))\n",
        "# print(\"Length of similarity_dice_in : %s\" %len(similarity_dice_in))\n",
        "# print(\"Length of similarity_dice_out : %s\" %len(similarity_dice_out))\n",
        "# print(\"Length of similarity_dice_combined : %s\" %len(similarity_dice_combined))"
      ],
      "execution_count": 23,
      "outputs": [
        {
          "output_type": "stream",
          "text": [
            "Length of common_inbound_friends : 1999\n",
            "Length of common_outbound_friends : 1999\n",
            "Length of common_friends : 1999\n",
            "Length of friend_measure : 1999\n",
            "Length of inverse_flag : 1999\n",
            "Length of in_degree_node_1 : 1999\n",
            "Length of in_degree_node_2 : 1999\n",
            "Length of out_degree_node_1 : 1999\n",
            "Length of out_degree_node_2 : 1999\n",
            "Length of bi_degree_node_1 : 1999\n",
            "Length of bi_degree_node_2 : 1999\n"
          ],
          "name": "stdout"
        }
      ]
    },
    {
      "cell_type": "code",
      "metadata": {
        "id": "6Z6MbElQ8Gqw",
        "colab_type": "code",
        "colab": {
          "base_uri": "https://localhost:8080/",
          "height": 455
        },
        "outputId": "5b5eca1c-e219-4d31-8223-aa795f2592ea"
      },
      "source": [
        "d = {\n",
        "    'ids': ids,\n",
        "     'Source': source_destination_nodes[:,0],\n",
        "     'destination': source_destination_nodes[:,1],\n",
        "     'inverse_flag': inverse_flag,\n",
        "     'common_inbound_friends' : common_inbound_friends,\n",
        "     'common_outbound_friends' : common_outbound_friends,\n",
        "     'common_friends' : common_friends,\n",
        "     'friend_measure' : friend_measure,\n",
        "     'in-degree source' : in_degree_node_1,\n",
        "     'in-degree destination' : in_degree_node_2,\n",
        "     'out-degree source' : out_degree_node_1,\n",
        "     'out-degree destination' : out_degree_node_2,\n",
        "     'bi-degree source' : bi_degree_node_1,\n",
        "     'bi-degree destination' : bi_degree_node_2,\n",
        "    #  'shortest paths' : shortest_paths,\n",
        "    #  'Adamic adar index' : adamic_adar_index,\n",
        "    #  'Jaccard Similarity index' : jaccard_similarity_index,\n",
        "    #  'preferential_attachment_score' : preferential_attachment_score,\n",
        "    #  'friend_tns' : friend_tns,\n",
        "    #  'similarity dice in' : similarity_dice_in,\n",
        "    #  'similarity dice combined' : similarity_dice_combined,\n",
        "    #  'similarity dice out' : similarity_dice_out,\n",
        "     'label' : label\n",
        "     }\n",
        "\n",
        "df = pd.DataFrame(data=d)\n",
        "\n",
        "df"
      ],
      "execution_count": 24,
      "outputs": [
        {
          "output_type": "execute_result",
          "data": {
            "text/html": [
              "<div>\n",
              "<style scoped>\n",
              "    .dataframe tbody tr th:only-of-type {\n",
              "        vertical-align: middle;\n",
              "    }\n",
              "\n",
              "    .dataframe tbody tr th {\n",
              "        vertical-align: top;\n",
              "    }\n",
              "\n",
              "    .dataframe thead th {\n",
              "        text-align: right;\n",
              "    }\n",
              "</style>\n",
              "<table border=\"1\" class=\"dataframe\">\n",
              "  <thead>\n",
              "    <tr style=\"text-align: right;\">\n",
              "      <th></th>\n",
              "      <th>ids</th>\n",
              "      <th>Source</th>\n",
              "      <th>destination</th>\n",
              "      <th>inverse_flag</th>\n",
              "      <th>common_inbound_friends</th>\n",
              "      <th>common_outbound_friends</th>\n",
              "      <th>common_friends</th>\n",
              "      <th>friend_measure</th>\n",
              "      <th>in-degree source</th>\n",
              "      <th>in-degree destination</th>\n",
              "      <th>out-degree source</th>\n",
              "      <th>out-degree destination</th>\n",
              "      <th>bi-degree source</th>\n",
              "      <th>bi-degree destination</th>\n",
              "      <th>label</th>\n",
              "    </tr>\n",
              "  </thead>\n",
              "  <tbody>\n",
              "    <tr>\n",
              "      <th>0</th>\n",
              "      <td>0</td>\n",
              "      <td>14389</td>\n",
              "      <td>139164</td>\n",
              "      <td>0</td>\n",
              "      <td>0</td>\n",
              "      <td>0</td>\n",
              "      <td>527</td>\n",
              "      <td>535</td>\n",
              "      <td>41</td>\n",
              "      <td>8</td>\n",
              "      <td>503</td>\n",
              "      <td>0</td>\n",
              "      <td>25</td>\n",
              "      <td>0</td>\n",
              "      <td>1</td>\n",
              "    </tr>\n",
              "    <tr>\n",
              "      <th>1</th>\n",
              "      <td>1</td>\n",
              "      <td>19380</td>\n",
              "      <td>193201</td>\n",
              "      <td>0</td>\n",
              "      <td>0</td>\n",
              "      <td>0</td>\n",
              "      <td>916</td>\n",
              "      <td>2982</td>\n",
              "      <td>5</td>\n",
              "      <td>51</td>\n",
              "      <td>865</td>\n",
              "      <td>0</td>\n",
              "      <td>4</td>\n",
              "      <td>0</td>\n",
              "      <td>1</td>\n",
              "    </tr>\n",
              "    <tr>\n",
              "      <th>2</th>\n",
              "      <td>2</td>\n",
              "      <td>9302</td>\n",
              "      <td>232333</td>\n",
              "      <td>0</td>\n",
              "      <td>1</td>\n",
              "      <td>0</td>\n",
              "      <td>2014</td>\n",
              "      <td>2477</td>\n",
              "      <td>238</td>\n",
              "      <td>4</td>\n",
              "      <td>1999</td>\n",
              "      <td>0</td>\n",
              "      <td>226</td>\n",
              "      <td>0</td>\n",
              "      <td>1</td>\n",
              "    </tr>\n",
              "    <tr>\n",
              "      <th>3</th>\n",
              "      <td>3</td>\n",
              "      <td>19348</td>\n",
              "      <td>243716</td>\n",
              "      <td>0</td>\n",
              "      <td>21</td>\n",
              "      <td>0</td>\n",
              "      <td>2714</td>\n",
              "      <td>58392</td>\n",
              "      <td>873</td>\n",
              "      <td>129</td>\n",
              "      <td>2000</td>\n",
              "      <td>0</td>\n",
              "      <td>266</td>\n",
              "      <td>0</td>\n",
              "      <td>1</td>\n",
              "    </tr>\n",
              "    <tr>\n",
              "      <th>4</th>\n",
              "      <td>4</td>\n",
              "      <td>2630</td>\n",
              "      <td>201994</td>\n",
              "      <td>0</td>\n",
              "      <td>175</td>\n",
              "      <td>0</td>\n",
              "      <td>2577</td>\n",
              "      <td>275018</td>\n",
              "      <td>740</td>\n",
              "      <td>402</td>\n",
              "      <td>2000</td>\n",
              "      <td>0</td>\n",
              "      <td>386</td>\n",
              "      <td>0</td>\n",
              "      <td>1</td>\n",
              "    </tr>\n",
              "    <tr>\n",
              "      <th>...</th>\n",
              "      <td>...</td>\n",
              "      <td>...</td>\n",
              "      <td>...</td>\n",
              "      <td>...</td>\n",
              "      <td>...</td>\n",
              "      <td>...</td>\n",
              "      <td>...</td>\n",
              "      <td>...</td>\n",
              "      <td>...</td>\n",
              "      <td>...</td>\n",
              "      <td>...</td>\n",
              "      <td>...</td>\n",
              "      <td>...</td>\n",
              "      <td>...</td>\n",
              "      <td>...</td>\n",
              "    </tr>\n",
              "    <tr>\n",
              "      <th>1994</th>\n",
              "      <td>1994</td>\n",
              "      <td>8046</td>\n",
              "      <td>201397</td>\n",
              "      <td>0</td>\n",
              "      <td>0</td>\n",
              "      <td>0</td>\n",
              "      <td>195</td>\n",
              "      <td>4</td>\n",
              "      <td>47</td>\n",
              "      <td>5</td>\n",
              "      <td>163</td>\n",
              "      <td>0</td>\n",
              "      <td>20</td>\n",
              "      <td>0</td>\n",
              "      <td>0</td>\n",
              "    </tr>\n",
              "    <tr>\n",
              "      <th>1995</th>\n",
              "      <td>1995</td>\n",
              "      <td>2961</td>\n",
              "      <td>333271</td>\n",
              "      <td>0</td>\n",
              "      <td>2</td>\n",
              "      <td>0</td>\n",
              "      <td>2890</td>\n",
              "      <td>535</td>\n",
              "      <td>2431</td>\n",
              "      <td>9</td>\n",
              "      <td>546</td>\n",
              "      <td>0</td>\n",
              "      <td>94</td>\n",
              "      <td>0</td>\n",
              "      <td>0</td>\n",
              "    </tr>\n",
              "    <tr>\n",
              "      <th>1996</th>\n",
              "      <td>1996</td>\n",
              "      <td>19249</td>\n",
              "      <td>399245</td>\n",
              "      <td>0</td>\n",
              "      <td>0</td>\n",
              "      <td>0</td>\n",
              "      <td>272</td>\n",
              "      <td>2</td>\n",
              "      <td>102</td>\n",
              "      <td>1</td>\n",
              "      <td>214</td>\n",
              "      <td>0</td>\n",
              "      <td>45</td>\n",
              "      <td>0</td>\n",
              "      <td>0</td>\n",
              "    </tr>\n",
              "    <tr>\n",
              "      <th>1997</th>\n",
              "      <td>1997</td>\n",
              "      <td>15607</td>\n",
              "      <td>134765</td>\n",
              "      <td>0</td>\n",
              "      <td>0</td>\n",
              "      <td>0</td>\n",
              "      <td>132</td>\n",
              "      <td>13</td>\n",
              "      <td>11</td>\n",
              "      <td>6</td>\n",
              "      <td>124</td>\n",
              "      <td>0</td>\n",
              "      <td>9</td>\n",
              "      <td>0</td>\n",
              "      <td>0</td>\n",
              "    </tr>\n",
              "    <tr>\n",
              "      <th>1998</th>\n",
              "      <td>1998</td>\n",
              "      <td>1835</td>\n",
              "      <td>256877</td>\n",
              "      <td>0</td>\n",
              "      <td>0</td>\n",
              "      <td>0</td>\n",
              "      <td>132</td>\n",
              "      <td>4</td>\n",
              "      <td>21</td>\n",
              "      <td>3</td>\n",
              "      <td>125</td>\n",
              "      <td>0</td>\n",
              "      <td>17</td>\n",
              "      <td>0</td>\n",
              "      <td>0</td>\n",
              "    </tr>\n",
              "  </tbody>\n",
              "</table>\n",
              "<p>1999 rows × 15 columns</p>\n",
              "</div>"
            ],
            "text/plain": [
              "       ids  Source  destination  ...  bi-degree source  bi-degree destination  label\n",
              "0        0   14389       139164  ...                25                      0      1\n",
              "1        1   19380       193201  ...                 4                      0      1\n",
              "2        2    9302       232333  ...               226                      0      1\n",
              "3        3   19348       243716  ...               266                      0      1\n",
              "4        4    2630       201994  ...               386                      0      1\n",
              "...    ...     ...          ...  ...               ...                    ...    ...\n",
              "1994  1994    8046       201397  ...                20                      0      0\n",
              "1995  1995    2961       333271  ...                94                      0      0\n",
              "1996  1996   19249       399245  ...                45                      0      0\n",
              "1997  1997   15607       134765  ...                 9                      0      0\n",
              "1998  1998    1835       256877  ...                17                      0      0\n",
              "\n",
              "[1999 rows x 15 columns]"
            ]
          },
          "metadata": {
            "tags": []
          },
          "execution_count": 24
        }
      ]
    },
    {
      "cell_type": "code",
      "metadata": {
        "id": "RtYHhm8584SO",
        "colab_type": "code",
        "colab": {
          "base_uri": "https://localhost:8080/",
          "height": 50
        },
        "outputId": "fab693b6-0906-411e-ace1-db1c2555a42e"
      },
      "source": [
        "# We split the training set into train and a holdout set\n",
        "df_train, df_holdout = train_test_split(df, test_size=0.3, random_state=42)\n",
        "\n",
        "Y_train = df_train['label']\n",
        "Y_holdout = df_holdout['label']\n",
        "X_train = df_train.drop(['label', 'Source', 'destination', 'ids'], axis = 1)\n",
        "X_holdout = df_holdout.drop(['label', 'Source', 'destination', 'ids'], axis = 1)\n",
        "\n",
        "print (\"Train set length: %s\" % (len(df_train)))\n",
        "print (\"Holdout set length: %s\" % (len(df_holdout)))"
      ],
      "execution_count": 25,
      "outputs": [
        {
          "output_type": "stream",
          "text": [
            "Train set length: 1399\n",
            "Holdout set length: 600\n"
          ],
          "name": "stdout"
        }
      ]
    },
    {
      "cell_type": "code",
      "metadata": {
        "id": "3iSbeuSe9G1x",
        "colab_type": "code",
        "colab": {
          "base_uri": "https://localhost:8080/",
          "height": 418
        },
        "outputId": "4a3d8eb8-3076-42ae-8855-d33cae38fcd4"
      },
      "source": [
        "X_train"
      ],
      "execution_count": 26,
      "outputs": [
        {
          "output_type": "execute_result",
          "data": {
            "text/html": [
              "<div>\n",
              "<style scoped>\n",
              "    .dataframe tbody tr th:only-of-type {\n",
              "        vertical-align: middle;\n",
              "    }\n",
              "\n",
              "    .dataframe tbody tr th {\n",
              "        vertical-align: top;\n",
              "    }\n",
              "\n",
              "    .dataframe thead th {\n",
              "        text-align: right;\n",
              "    }\n",
              "</style>\n",
              "<table border=\"1\" class=\"dataframe\">\n",
              "  <thead>\n",
              "    <tr style=\"text-align: right;\">\n",
              "      <th></th>\n",
              "      <th>inverse_flag</th>\n",
              "      <th>common_inbound_friends</th>\n",
              "      <th>common_outbound_friends</th>\n",
              "      <th>common_friends</th>\n",
              "      <th>friend_measure</th>\n",
              "      <th>in-degree source</th>\n",
              "      <th>in-degree destination</th>\n",
              "      <th>out-degree source</th>\n",
              "      <th>out-degree destination</th>\n",
              "      <th>bi-degree source</th>\n",
              "      <th>bi-degree destination</th>\n",
              "    </tr>\n",
              "  </thead>\n",
              "  <tbody>\n",
              "    <tr>\n",
              "      <th>557</th>\n",
              "      <td>0</td>\n",
              "      <td>2</td>\n",
              "      <td>0</td>\n",
              "      <td>2042</td>\n",
              "      <td>5392</td>\n",
              "      <td>133</td>\n",
              "      <td>41</td>\n",
              "      <td>2000</td>\n",
              "      <td>0</td>\n",
              "      <td>130</td>\n",
              "      <td>0</td>\n",
              "    </tr>\n",
              "    <tr>\n",
              "      <th>843</th>\n",
              "      <td>0</td>\n",
              "      <td>13</td>\n",
              "      <td>20</td>\n",
              "      <td>294</td>\n",
              "      <td>2079</td>\n",
              "      <td>47</td>\n",
              "      <td>84</td>\n",
              "      <td>178</td>\n",
              "      <td>79</td>\n",
              "      <td>30</td>\n",
              "      <td>37</td>\n",
              "    </tr>\n",
              "    <tr>\n",
              "      <th>1652</th>\n",
              "      <td>0</td>\n",
              "      <td>0</td>\n",
              "      <td>0</td>\n",
              "      <td>505</td>\n",
              "      <td>27</td>\n",
              "      <td>337</td>\n",
              "      <td>10</td>\n",
              "      <td>200</td>\n",
              "      <td>0</td>\n",
              "      <td>42</td>\n",
              "      <td>0</td>\n",
              "    </tr>\n",
              "    <tr>\n",
              "      <th>1555</th>\n",
              "      <td>0</td>\n",
              "      <td>0</td>\n",
              "      <td>0</td>\n",
              "      <td>2008</td>\n",
              "      <td>222</td>\n",
              "      <td>7</td>\n",
              "      <td>7</td>\n",
              "      <td>2000</td>\n",
              "      <td>0</td>\n",
              "      <td>6</td>\n",
              "      <td>0</td>\n",
              "    </tr>\n",
              "    <tr>\n",
              "      <th>1160</th>\n",
              "      <td>0</td>\n",
              "      <td>0</td>\n",
              "      <td>0</td>\n",
              "      <td>1172</td>\n",
              "      <td>51</td>\n",
              "      <td>48</td>\n",
              "      <td>3</td>\n",
              "      <td>1167</td>\n",
              "      <td>0</td>\n",
              "      <td>46</td>\n",
              "      <td>0</td>\n",
              "    </tr>\n",
              "    <tr>\n",
              "      <th>...</th>\n",
              "      <td>...</td>\n",
              "      <td>...</td>\n",
              "      <td>...</td>\n",
              "      <td>...</td>\n",
              "      <td>...</td>\n",
              "      <td>...</td>\n",
              "      <td>...</td>\n",
              "      <td>...</td>\n",
              "      <td>...</td>\n",
              "      <td>...</td>\n",
              "      <td>...</td>\n",
              "    </tr>\n",
              "    <tr>\n",
              "      <th>1130</th>\n",
              "      <td>0</td>\n",
              "      <td>0</td>\n",
              "      <td>0</td>\n",
              "      <td>15</td>\n",
              "      <td>0</td>\n",
              "      <td>14</td>\n",
              "      <td>1</td>\n",
              "      <td>0</td>\n",
              "      <td>0</td>\n",
              "      <td>0</td>\n",
              "      <td>0</td>\n",
              "    </tr>\n",
              "    <tr>\n",
              "      <th>1294</th>\n",
              "      <td>0</td>\n",
              "      <td>1</td>\n",
              "      <td>0</td>\n",
              "      <td>3667</td>\n",
              "      <td>594</td>\n",
              "      <td>2035</td>\n",
              "      <td>7</td>\n",
              "      <td>2000</td>\n",
              "      <td>0</td>\n",
              "      <td>374</td>\n",
              "      <td>0</td>\n",
              "    </tr>\n",
              "    <tr>\n",
              "      <th>860</th>\n",
              "      <td>0</td>\n",
              "      <td>19</td>\n",
              "      <td>0</td>\n",
              "      <td>2665</td>\n",
              "      <td>231922</td>\n",
              "      <td>57</td>\n",
              "      <td>731</td>\n",
              "      <td>2000</td>\n",
              "      <td>0</td>\n",
              "      <td>33</td>\n",
              "      <td>0</td>\n",
              "    </tr>\n",
              "    <tr>\n",
              "      <th>1459</th>\n",
              "      <td>0</td>\n",
              "      <td>0</td>\n",
              "      <td>0</td>\n",
              "      <td>85</td>\n",
              "      <td>5</td>\n",
              "      <td>70</td>\n",
              "      <td>15</td>\n",
              "      <td>0</td>\n",
              "      <td>0</td>\n",
              "      <td>0</td>\n",
              "      <td>0</td>\n",
              "    </tr>\n",
              "    <tr>\n",
              "      <th>1126</th>\n",
              "      <td>0</td>\n",
              "      <td>1</td>\n",
              "      <td>0</td>\n",
              "      <td>280</td>\n",
              "      <td>448</td>\n",
              "      <td>131</td>\n",
              "      <td>26</td>\n",
              "      <td>200</td>\n",
              "      <td>0</td>\n",
              "      <td>76</td>\n",
              "      <td>0</td>\n",
              "    </tr>\n",
              "  </tbody>\n",
              "</table>\n",
              "<p>1399 rows × 11 columns</p>\n",
              "</div>"
            ],
            "text/plain": [
              "      inverse_flag  ...  bi-degree destination\n",
              "557              0  ...                      0\n",
              "843              0  ...                     37\n",
              "1652             0  ...                      0\n",
              "1555             0  ...                      0\n",
              "1160             0  ...                      0\n",
              "...            ...  ...                    ...\n",
              "1130             0  ...                      0\n",
              "1294             0  ...                      0\n",
              "860              0  ...                      0\n",
              "1459             0  ...                      0\n",
              "1126             0  ...                      0\n",
              "\n",
              "[1399 rows x 11 columns]"
            ]
          },
          "metadata": {
            "tags": []
          },
          "execution_count": 26
        }
      ]
    },
    {
      "cell_type": "code",
      "metadata": {
        "id": "ILahtvkNBnUy",
        "colab_type": "code",
        "colab": {
          "base_uri": "https://localhost:8080/",
          "height": 314
        },
        "outputId": "9ad3e951-0e84-4c6f-f000-70526305e546"
      },
      "source": [
        "#For AdaBoost Classifier\n",
        "n_estimators = np.linspace(600, 1500, 10, endpoint=True)\n",
        "\n",
        "train_results = []\n",
        "test_results = []\n",
        "\n",
        "for i in tqdm(n_estimators):\n",
        "    dt = AdaBoostClassifier(n_estimators=int(i))\n",
        "    dt.fit(X_train, Y_train)    \n",
        "    Y_prediction = dt.predict(X_train)\n",
        "\n",
        "    #append results of accuracy\n",
        "    train_results.append(roc_auc_score(Y_train, Y_prediction))\n",
        "    \n",
        "    #now again for test data\n",
        "    Y_prediction = dt.predict(X_holdout)\n",
        "    #append results of accuracy\n",
        "    test_results.append(roc_auc_score(Y_holdout, Y_prediction))\n",
        "\n",
        "from matplotlib.legend_handler import HandlerLine2D\n",
        "import matplotlib.pyplot as plt\n",
        "line1, = plt.plot(n_estimators, train_results, 'b', label='Train accuracy')\n",
        "line2, = plt.plot(n_estimators, test_results, 'r', label= 'Test accuracy')\n",
        "\n",
        "plt.legend(handler_map={line1: HandlerLine2D(numpoints=2)})\n",
        "plt.ylabel('Accuracy score')\n",
        "plt.xlabel('n_estimators')"
      ],
      "execution_count": 27,
      "outputs": [
        {
          "output_type": "stream",
          "text": [
            "100%|██████████| 10/10 [00:31<00:00,  3.19s/it]\n"
          ],
          "name": "stderr"
        },
        {
          "output_type": "execute_result",
          "data": {
            "text/plain": [
              "Text(0.5, 0, 'n_estimators')"
            ]
          },
          "metadata": {
            "tags": []
          },
          "execution_count": 27
        },
        {
          "output_type": "display_data",
          "data": {
            "image/png": "[encoded data removed]",
            "text/plain": [
              "<Figure size 432x288 with 1 Axes>"
            ]
          },
          "metadata": {
            "tags": [],
            "needs_background": "light"
          }
        }
      ]
    },
    {
      "cell_type": "code",
      "metadata": {
        "id": "_ai1dUgh9bRA",
        "colab_type": "code",
        "colab": {
          "base_uri": "https://localhost:8080/",
          "height": 314
        },
        "outputId": "8fdc1629-4861-44a6-acb1-2e11f578cc50"
      },
      "source": [
        "#For Random Forest\n",
        "n_estimators = np.linspace(100, 1000, 10, endpoint=True)\n",
        "\n",
        "train_results = []\n",
        "test_results = []\n",
        "\n",
        "for i in tqdm(n_estimators):\n",
        "    dt = RandomForestClassifier(max_depth=8,n_estimators=int(i),n_jobs=-1)\n",
        "    dt.fit(X_train, Y_train)    \n",
        "    Y_prediction = dt.predict(X_train)\n",
        "\n",
        "    #append results of accuracy\n",
        "    train_results.append(roc_auc_score(Y_train, Y_prediction))\n",
        "    \n",
        "    #now again for test data\n",
        "    Y_prediction = dt.predict(X_holdout)\n",
        "    #append results of accuracy\n",
        "    test_results.append(roc_auc_score(Y_holdout, Y_prediction))\n",
        "\n",
        "from matplotlib.legend_handler import HandlerLine2D\n",
        "import matplotlib.pyplot as plt\n",
        "line1, = plt.plot(n_estimators, train_results, 'b', label='Train accuracy')\n",
        "line2, = plt.plot(n_estimators, test_results, 'r', label= 'Test accuracy')\n",
        "\n",
        "plt.legend(handler_map={line1: HandlerLine2D(numpoints=2)})\n",
        "plt.ylabel('Accuracy score')\n",
        "plt.xlabel('n_estimators')"
      ],
      "execution_count": 28,
      "outputs": [
        {
          "output_type": "stream",
          "text": [
            "100%|██████████| 10/10 [00:18<00:00,  1.89s/it]\n"
          ],
          "name": "stderr"
        },
        {
          "output_type": "execute_result",
          "data": {
            "text/plain": [
              "Text(0.5, 0, 'n_estimators')"
            ]
          },
          "metadata": {
            "tags": []
          },
          "execution_count": 28
        },
        {
          "output_type": "display_data",
          "data": {
            "image/png": "[encoded data removed]",
            "text/plain": [
              "<Figure size 432x288 with 1 Axes>"
            ]
          },
          "metadata": {
            "tags": [],
            "needs_background": "light"
          }
        }
      ]
    },
    {
      "cell_type": "code",
      "metadata": {
        "id": "kIdFJ-g-9iTU",
        "colab_type": "code",
        "colab": {
          "base_uri": "https://localhost:8080/",
          "height": 313
        },
        "outputId": "bed9efcf-6c12-4a24-8873-193ea98ed240"
      },
      "source": [
        "max_depths = np.linspace(1, 50, 50, endpoint=True)\n",
        "\n",
        "train_results = []\n",
        "test_results = []\n",
        "\n",
        "for i in tqdm(max_depths):\n",
        "    dt = RandomForestClassifier(max_depth=i,n_jobs=-1)\n",
        "    dt.fit(X_train, Y_train)\n",
        "    Y_prediction = dt.predict(X_train)    \n",
        "    #append results of accuracy\n",
        "    train_results.append(roc_auc_score(Y_train, Y_prediction))\n",
        "    \n",
        "    #now again for test data\n",
        "    Y_prediction = dt.predict(X_holdout)\n",
        "    errors = abs(Y_prediction - Y_holdout)\n",
        "    #append results of accuracy\n",
        "    test_results.append(roc_auc_score(Y_holdout, Y_prediction))\n",
        "\n",
        "\n",
        "from matplotlib.legend_handler import HandlerLine2D\n",
        "import matplotlib.pyplot as plt\n",
        "line1, = plt.plot(max_depths, train_results, 'b', label='Train accuracy')\n",
        "line2, = plt.plot(max_depths, test_results, 'r', label= 'Test accuracy')\n",
        "\n",
        "plt.legend(handler_map={line1: HandlerLine2D(numpoints=2)})\n",
        "plt.ylabel('Accuracy score')\n",
        "plt.xlabel('Tree depth')"
      ],
      "execution_count": 29,
      "outputs": [
        {
          "output_type": "stream",
          "text": [
            "100%|██████████| 50/50 [00:27<00:00,  1.81it/s]\n"
          ],
          "name": "stderr"
        },
        {
          "output_type": "execute_result",
          "data": {
            "text/plain": [
              "Text(0.5, 0, 'Tree depth')"
            ]
          },
          "metadata": {
            "tags": []
          },
          "execution_count": 29
        },
        {
          "output_type": "display_data",
          "data": {
            "image/png": "[encoded data removed]",
            "text/plain": [
              "<Figure size 432x288 with 1 Axes>"
            ]
          },
          "metadata": {
            "tags": [],
            "needs_background": "light"
          }
        }
      ]
    },
    {
      "cell_type": "code",
      "metadata": {
        "id": "l-2plStJAgA7",
        "colab_type": "code",
        "colab": {
          "base_uri": "https://localhost:8080/",
          "height": 961
        },
        "outputId": "fce24377-2b7a-4333-f75f-0447fd07d82b"
      },
      "source": [
        "import xgboost as xgb\n",
        "\n",
        "names = [\n",
        "         \"K neighbor\",\n",
        "         \"decision tree\",\n",
        "         \"Logistic Regression\",\n",
        "         \"AdaBoostClassifier\",\n",
        "         \"xgboost\",\n",
        "         \"RandomForestClassifier\"\n",
        "        ]\n",
        "\n",
        "classifiers = [\n",
        "    KNeighborsClassifier(),\n",
        "    DecisionTreeClassifier(),\n",
        "    LogisticRegression(),\n",
        "    AdaBoostClassifier(),\n",
        "    xgb.XGBClassifier(),\n",
        "    RandomForestClassifier(),\n",
        "] \n",
        "\n",
        "parameters = [\n",
        "              {\n",
        "                  'clf__n_neighbors':[15,20,25,30,35,40,45,50],\n",
        "                  'clf__p':[1,2,3]\n",
        "              },\n",
        "              {\n",
        "                  'clf__max_depth': [1,2,3,4,5],\n",
        "                  'clf__max_features': [None, \"auto\", \"sqrt\", \"log2\"]\n",
        "              },\n",
        "              {\n",
        "                    'clf__C':[0.01,0.1],\n",
        "                    'clf__max_iter':[50,100,150,200],\n",
        "                    'clf__penalty':['l2']\n",
        "               \n",
        "              },\n",
        "              {\n",
        "                  'clf__learning_rate' : [1],\n",
        "                  'clf__n_estimators' : [400,450,500,600,700,800],\n",
        "                  'clf__random_state' : [0],\n",
        "                  'clf__algorithm' : ['SAMME.R']\n",
        "              },\n",
        "              {\n",
        "                  'clf__learning_rate' : [0.001,0.01,0.1],\n",
        "                  'clf__max_depth' : [2,3,4,5,6,7],\n",
        "                  'clf__min_child_weight' : [1,2,3,4,5,6],\n",
        "                  'clf__subsample' : [0.1,0.2,0.3,0.4,0.5,0.6,0.7,0.8,0.9]\n",
        "              },\n",
        "              {\n",
        "                  'clf__n_estimators' : [100,200,300,400],\n",
        "                  'clf__max_depth' : [8]\n",
        "              }\n",
        "                \n",
        "             ]\n",
        "scaler = StandardScaler()\n",
        "model_params_score = []\n",
        "for name, classifier, params in zip(names, classifiers, parameters):\n",
        "    steps=[('scaler', scaler), ('clf', classifier)]\n",
        "    pipe = Pipeline(steps)\n",
        "    print(\"Paprameters for the model are: \", pipe.get_params().keys())\n",
        "    gs_clf = GridSearchCV(pipe, param_grid=params, cv=5,n_jobs=-1)\n",
        "    gs_clf.fit(X_train, Y_train)\n",
        "    Y_prediction = gs_clf.predict(X_holdout)\n",
        "    model_params_score.append([classifier,roc_auc_score(Y_holdout, Y_prediction),gs_clf.best_params_])\n",
        "    \n",
        "    print(\"--------------------------------------------------------------------------\")\n",
        "    print(\"%s\\n\\n\\t\\tAUC score: %s\" % (classifier , roc_auc_score(Y_holdout, Y_prediction)))"
      ],
      "execution_count": 30,
      "outputs": [
        {
          "output_type": "stream",
          "text": [
            "Paprameters for the model are:  dict_keys(['memory', 'steps', 'verbose', 'scaler', 'clf', 'scaler__copy', 'scaler__with_mean', 'scaler__with_std', 'clf__algorithm', 'clf__leaf_size', 'clf__metric', 'clf__metric_params', 'clf__n_jobs', 'clf__n_neighbors', 'clf__p', 'clf__weights'])\n",
            "--------------------------------------------------------------------------\n",
            "KNeighborsClassifier(algorithm='auto', leaf_size=30, metric='minkowski',\n",
            "                     metric_params=None, n_jobs=None, n_neighbors=5, p=2,\n",
            "                     weights='uniform')\n",
            "\n",
            "\t\tAUC score: 0.8366212836899137\n",
            "Paprameters for the model are:  dict_keys(['memory', 'steps', 'verbose', 'scaler', 'clf', 'scaler__copy', 'scaler__with_mean', 'scaler__with_std', 'clf__ccp_alpha', 'clf__class_weight', 'clf__criterion', 'clf__max_depth', 'clf__max_features', 'clf__max_leaf_nodes', 'clf__min_impurity_decrease', 'clf__min_impurity_split', 'clf__min_samples_leaf', 'clf__min_samples_split', 'clf__min_weight_fraction_leaf', 'clf__presort', 'clf__random_state', 'clf__splitter'])\n",
            "--------------------------------------------------------------------------\n",
            "DecisionTreeClassifier(ccp_alpha=0.0, class_weight=None, criterion='gini',\n",
            "                       max_depth=None, max_features=None, max_leaf_nodes=None,\n",
            "                       min_impurity_decrease=0.0, min_impurity_split=None,\n",
            "                       min_samples_leaf=1, min_samples_split=2,\n",
            "                       min_weight_fraction_leaf=0.0, presort='deprecated',\n",
            "                       random_state=None, splitter='best')\n",
            "\n",
            "\t\tAUC score: 0.9599888858016116\n",
            "Paprameters for the model are:  dict_keys(['memory', 'steps', 'verbose', 'scaler', 'clf', 'scaler__copy', 'scaler__with_mean', 'scaler__with_std', 'clf__C', 'clf__class_weight', 'clf__dual', 'clf__fit_intercept', 'clf__intercept_scaling', 'clf__l1_ratio', 'clf__max_iter', 'clf__multi_class', 'clf__n_jobs', 'clf__penalty', 'clf__random_state', 'clf__solver', 'clf__tol', 'clf__verbose', 'clf__warm_start'])\n",
            "--------------------------------------------------------------------------\n",
            "LogisticRegression(C=1.0, class_weight=None, dual=False, fit_intercept=True,\n",
            "                   intercept_scaling=1, l1_ratio=None, max_iter=100,\n",
            "                   multi_class='auto', n_jobs=None, penalty='l2',\n",
            "                   random_state=None, solver='lbfgs', tol=0.0001, verbose=0,\n",
            "                   warm_start=False)\n",
            "\n",
            "\t\tAUC score: 0.8028063350930814\n",
            "Paprameters for the model are:  dict_keys(['memory', 'steps', 'verbose', 'scaler', 'clf', 'scaler__copy', 'scaler__with_mean', 'scaler__with_std', 'clf__algorithm', 'clf__base_estimator', 'clf__learning_rate', 'clf__n_estimators', 'clf__random_state'])\n",
            "--------------------------------------------------------------------------\n",
            "AdaBoostClassifier(algorithm='SAMME.R', base_estimator=None, learning_rate=1.0,\n",
            "                   n_estimators=50, random_state=None)\n",
            "\n",
            "\t\tAUC score: 0.968463462072798\n",
            "Paprameters for the model are:  dict_keys(['memory', 'steps', 'verbose', 'scaler', 'clf', 'scaler__copy', 'scaler__with_mean', 'scaler__with_std', 'clf__base_score', 'clf__booster', 'clf__colsample_bylevel', 'clf__colsample_bynode', 'clf__colsample_bytree', 'clf__gamma', 'clf__learning_rate', 'clf__max_delta_step', 'clf__max_depth', 'clf__min_child_weight', 'clf__missing', 'clf__n_estimators', 'clf__n_jobs', 'clf__nthread', 'clf__objective', 'clf__random_state', 'clf__reg_alpha', 'clf__reg_lambda', 'clf__scale_pos_weight', 'clf__seed', 'clf__silent', 'clf__subsample', 'clf__verbosity'])\n",
            "--------------------------------------------------------------------------\n",
            "XGBClassifier(base_score=0.5, booster='gbtree', colsample_bylevel=1,\n",
            "              colsample_bynode=1, colsample_bytree=1, gamma=0,\n",
            "              learning_rate=0.1, max_delta_step=0, max_depth=3,\n",
            "              min_child_weight=1, missing=None, n_estimators=100, n_jobs=1,\n",
            "              nthread=None, objective='binary:logistic', random_state=0,\n",
            "              reg_alpha=0, reg_lambda=1, scale_pos_weight=1, seed=None,\n",
            "              silent=None, subsample=1, verbosity=1)\n",
            "\n",
            "\t\tAUC score: 0.9699916643512086\n",
            "Paprameters for the model are:  dict_keys(['memory', 'steps', 'verbose', 'scaler', 'clf', 'scaler__copy', 'scaler__with_mean', 'scaler__with_std', 'clf__bootstrap', 'clf__ccp_alpha', 'clf__class_weight', 'clf__criterion', 'clf__max_depth', 'clf__max_features', 'clf__max_leaf_nodes', 'clf__max_samples', 'clf__min_impurity_decrease', 'clf__min_impurity_split', 'clf__min_samples_leaf', 'clf__min_samples_split', 'clf__min_weight_fraction_leaf', 'clf__n_estimators', 'clf__n_jobs', 'clf__oob_score', 'clf__random_state', 'clf__verbose', 'clf__warm_start'])\n",
            "--------------------------------------------------------------------------\n",
            "RandomForestClassifier(bootstrap=True, ccp_alpha=0.0, class_weight=None,\n",
            "                       criterion='gini', max_depth=None, max_features='auto',\n",
            "                       max_leaf_nodes=None, max_samples=None,\n",
            "                       min_impurity_decrease=0.0, min_impurity_split=None,\n",
            "                       min_samples_leaf=1, min_samples_split=2,\n",
            "                       min_weight_fraction_leaf=0.0, n_estimators=100,\n",
            "                       n_jobs=None, oob_score=False, random_state=None,\n",
            "                       verbose=0, warm_start=False)\n",
            "\n",
            "\t\tAUC score: 0.9715754376215614\n"
          ],
          "name": "stdout"
        }
      ]
    },
    {
      "cell_type": "code",
      "metadata": {
        "id": "xGfWtMI8Aydn",
        "colab_type": "code",
        "colab": {
          "base_uri": "https://localhost:8080/",
          "height": 840
        },
        "outputId": "5ceb9a3c-a187-4bc3-c601-d66288772e9b"
      },
      "source": [
        "model_params_score"
      ],
      "execution_count": 31,
      "outputs": [
        {
          "output_type": "execute_result",
          "data": {
            "text/plain": [
              "[[KNeighborsClassifier(algorithm='auto', leaf_size=30, metric='minkowski',\n",
              "                       metric_params=None, n_jobs=None, n_neighbors=5, p=2,\n",
              "                       weights='uniform'),\n",
              "  0.8366212836899137,\n",
              "  {'clf__n_neighbors': 15, 'clf__p': 1}],\n",
              " [DecisionTreeClassifier(ccp_alpha=0.0, class_weight=None, criterion='gini',\n",
              "                         max_depth=None, max_features=None, max_leaf_nodes=None,\n",
              "                         min_impurity_decrease=0.0, min_impurity_split=None,\n",
              "                         min_samples_leaf=1, min_samples_split=2,\n",
              "                         min_weight_fraction_leaf=0.0, presort='deprecated',\n",
              "                         random_state=None, splitter='best'),\n",
              "  0.9599888858016116,\n",
              "  {'clf__max_depth': 4, 'clf__max_features': None}],\n",
              " [LogisticRegression(C=1.0, class_weight=None, dual=False, fit_intercept=True,\n",
              "                     intercept_scaling=1, l1_ratio=None, max_iter=100,\n",
              "                     multi_class='auto', n_jobs=None, penalty='l2',\n",
              "                     random_state=None, solver='lbfgs', tol=0.0001, verbose=0,\n",
              "                     warm_start=False),\n",
              "  0.8028063350930814,\n",
              "  {'clf__C': 0.1, 'clf__max_iter': 50, 'clf__penalty': 'l2'}],\n",
              " [AdaBoostClassifier(algorithm='SAMME.R', base_estimator=None, learning_rate=1.0,\n",
              "                     n_estimators=50, random_state=None),\n",
              "  0.968463462072798,\n",
              "  {'clf__algorithm': 'SAMME.R',\n",
              "   'clf__learning_rate': 1,\n",
              "   'clf__n_estimators': 800,\n",
              "   'clf__random_state': 0}],\n",
              " [XGBClassifier(base_score=0.5, booster='gbtree', colsample_bylevel=1,\n",
              "                colsample_bynode=1, colsample_bytree=1, gamma=0,\n",
              "                learning_rate=0.1, max_delta_step=0, max_depth=3,\n",
              "                min_child_weight=1, missing=None, n_estimators=100, n_jobs=1,\n",
              "                nthread=None, objective='binary:logistic', random_state=0,\n",
              "                reg_alpha=0, reg_lambda=1, scale_pos_weight=1, seed=None,\n",
              "                silent=None, subsample=1, verbosity=1),\n",
              "  0.9699916643512086,\n",
              "  {'clf__learning_rate': 0.1,\n",
              "   'clf__max_depth': 3,\n",
              "   'clf__min_child_weight': 2,\n",
              "   'clf__subsample': 0.9}],\n",
              " [RandomForestClassifier(bootstrap=True, ccp_alpha=0.0, class_weight=None,\n",
              "                         criterion='gini', max_depth=None, max_features='auto',\n",
              "                         max_leaf_nodes=None, max_samples=None,\n",
              "                         min_impurity_decrease=0.0, min_impurity_split=None,\n",
              "                         min_samples_leaf=1, min_samples_split=2,\n",
              "                         min_weight_fraction_leaf=0.0, n_estimators=100,\n",
              "                         n_jobs=None, oob_score=False, random_state=None,\n",
              "                         verbose=0, warm_start=False),\n",
              "  0.9715754376215614,\n",
              "  {'clf__max_depth': 8, 'clf__n_estimators': 300}]]"
            ]
          },
          "metadata": {
            "tags": []
          },
          "execution_count": 31
        }
      ]
    },
    {
      "cell_type": "code",
      "metadata": {
        "id": "7W_if8aeA0lk",
        "colab_type": "code",
        "colab": {
          "base_uri": "https://localhost:8080/",
          "height": 202
        },
        "outputId": "a5fdc6a4-37a2-4fd6-f4b0-b3c79bf59c69"
      },
      "source": [
        "#get best index as a model\n",
        "best_value =0.0\n",
        "index = 0\n",
        "for counter, info in enumerate(model_params_score):\n",
        "    if(info[1]>best_value):\n",
        "        best_value = info[1]\n",
        "        index = counter\n",
        "        \n",
        "# retrained the model based on the best one for fitting the test data\n",
        "classifier = model_params_score[index][0]\n",
        "steps=[('scaler', scaler), ('clf', classifier)]\n",
        "pipe = Pipeline(steps)  \n",
        "pipe.set_params(**model_params_score[index][2])\n",
        "pipe.fit(X_train, Y_train)\n",
        "Y_prediction = pipe.predict(X_holdout)\n",
        "\n",
        "print(\"--------------------------------------------------------------------------\")\n",
        "print(\"%s\\n\\n\\t\\tAUC score: %s\" % (classifier , roc_auc_score(Y_holdout, Y_prediction)))"
      ],
      "execution_count": 32,
      "outputs": [
        {
          "output_type": "stream",
          "text": [
            "--------------------------------------------------------------------------\n",
            "RandomForestClassifier(bootstrap=True, ccp_alpha=0.0, class_weight=None,\n",
            "                       criterion='gini', max_depth=8, max_features='auto',\n",
            "                       max_leaf_nodes=None, max_samples=None,\n",
            "                       min_impurity_decrease=0.0, min_impurity_split=None,\n",
            "                       min_samples_leaf=1, min_samples_split=2,\n",
            "                       min_weight_fraction_leaf=0.0, n_estimators=300,\n",
            "                       n_jobs=None, oob_score=False, random_state=None,\n",
            "                       verbose=0, warm_start=False)\n",
            "\n",
            "\t\tAUC score: 0.9682411781050292\n"
          ],
          "name": "stdout"
        }
      ]
    },
    {
      "cell_type": "code",
      "metadata": {
        "id": "Pq-zlKjh9lFN",
        "colab_type": "code",
        "colab": {
          "base_uri": "https://localhost:8080/",
          "height": 474
        },
        "outputId": "67920dd6-4e5c-402d-ca5b-332b61c326a8"
      },
      "source": [
        "# voting using XGBOOST and ADABOOST \n",
        "\n",
        "scaler = StandardScaler()\n",
        "\n",
        "voting_params_score=[]\n",
        "eclf = VotingClassifier(estimators=[ \n",
        "    ('adaboost', AdaBoostClassifier()),\n",
        "    ('xgb', xgb.XGBClassifier()),\n",
        "    \n",
        "    ], voting='soft'\n",
        ")\n",
        "\n",
        "#Use the key for the classifier followed by __ and the attribute\n",
        "params = {'clf__adaboost__algorithm':['SAMME.R'],\n",
        "          'clf__adaboost__learning_rate':[0.1,1],\n",
        "          'clf__adaboost__n_estimators':[1000],\n",
        "          \n",
        "          \n",
        "          'clf__xgb__booster':['gbtree'],\n",
        "          'clf__xgb__eval': ['auc'],\n",
        "          'clf__xgb__gamma':[0],\n",
        "          'clf__xgb__lambda':[1],\n",
        "          'clf__xgb__learning_rate': [0.1],\n",
        "          'clf__xgb__max_depth':[100],\n",
        "          'clf__xgb__min_child_weight':[10],\n",
        "          'clf__xgb__subsample':[1]\n",
        "         }\n",
        "\n",
        "steps=[('scaler', scaler), ('clf', eclf)]\n",
        "pipe = Pipeline(steps)\n",
        "print(\"Paprameters for the model are: \", pipe.get_params().keys())\n",
        "\n",
        "gs_clf = GridSearchCV(pipe, param_grid=params, cv=5,n_jobs=-1)\n",
        "gs_clf.fit(X_train, Y_train)\n",
        "Y_prediction = gs_clf.predict(X_holdout)\n",
        "voting_params_score.append([eclf,roc_auc_score(Y_holdout, Y_prediction),gs_clf.best_params_])\n",
        "    \n",
        "print(\"--------------------------------------------------------------------------\")\n",
        "print(\"%s\\n\\n\\t\\tAUC score: %s\" % (eclf , roc_auc_score(Y_holdout, Y_prediction)))"
      ],
      "execution_count": 33,
      "outputs": [
        {
          "output_type": "stream",
          "text": [
            "Paprameters for the model are:  dict_keys(['memory', 'steps', 'verbose', 'scaler', 'clf', 'scaler__copy', 'scaler__with_mean', 'scaler__with_std', 'clf__estimators', 'clf__flatten_transform', 'clf__n_jobs', 'clf__voting', 'clf__weights', 'clf__adaboost', 'clf__xgb', 'clf__adaboost__algorithm', 'clf__adaboost__base_estimator', 'clf__adaboost__learning_rate', 'clf__adaboost__n_estimators', 'clf__adaboost__random_state', 'clf__xgb__base_score', 'clf__xgb__booster', 'clf__xgb__colsample_bylevel', 'clf__xgb__colsample_bynode', 'clf__xgb__colsample_bytree', 'clf__xgb__gamma', 'clf__xgb__learning_rate', 'clf__xgb__max_delta_step', 'clf__xgb__max_depth', 'clf__xgb__min_child_weight', 'clf__xgb__missing', 'clf__xgb__n_estimators', 'clf__xgb__n_jobs', 'clf__xgb__nthread', 'clf__xgb__objective', 'clf__xgb__random_state', 'clf__xgb__reg_alpha', 'clf__xgb__reg_lambda', 'clf__xgb__scale_pos_weight', 'clf__xgb__seed', 'clf__xgb__silent', 'clf__xgb__subsample', 'clf__xgb__verbosity'])\n",
            "--------------------------------------------------------------------------\n",
            "VotingClassifier(estimators=[('adaboost',\n",
            "                              AdaBoostClassifier(algorithm='SAMME.R',\n",
            "                                                 base_estimator=None,\n",
            "                                                 learning_rate=1.0,\n",
            "                                                 n_estimators=50,\n",
            "                                                 random_state=None)),\n",
            "                             ('xgb',\n",
            "                              XGBClassifier(base_score=0.5, booster='gbtree',\n",
            "                                            colsample_bylevel=1,\n",
            "                                            colsample_bynode=1,\n",
            "                                            colsample_bytree=1, gamma=0,\n",
            "                                            learning_rate=0.1, max_delta_step=0,\n",
            "                                            max_depth=3, min_child_weight=1,\n",
            "                                            missing=None, n_estimators=100,\n",
            "                                            n_jobs=1, nthread=None,\n",
            "                                            objective='binary:logistic',\n",
            "                                            random_state=0, reg_alpha=0,\n",
            "                                            reg_lambda=1, scale_pos_weight=1,\n",
            "                                            seed=None, silent=None, subsample=1,\n",
            "                                            verbosity=1))],\n",
            "                 flatten_transform=True, n_jobs=None, voting='soft',\n",
            "                 weights=None)\n",
            "\n",
            "\t\tAUC score: 0.9666574048346763\n"
          ],
          "name": "stdout"
        }
      ]
    },
    {
      "cell_type": "code",
      "metadata": {
        "id": "LxOm292_9ue7",
        "colab_type": "code",
        "colab": {
          "base_uri": "https://localhost:8080/",
          "height": 435
        },
        "outputId": "56dc505d-0be1-43fc-867a-763dcd831c3c"
      },
      "source": [
        "# We read the test data\n",
        "test_edge_list = []\n",
        "\n",
        "with open(TEST_FILE) as test_data:\n",
        "    for i , lines in enumerate(test_data):\n",
        "        \n",
        "        if i == 0:                              # Skips the header\n",
        "            continue;\n",
        "        \n",
        "        node_list = lines[:-1].split('\\t')\n",
        "        test_edge_list.append((inv_index[node_list[1]], inv_index[node_list[2]]))\n",
        "\n",
        "common_inbound_friends, common_outbound_friends, common_friends, friend_measure, inverse_flag, in_degree_node_1, in_degree_node_2, out_degree_node_1, out_degree_node_2, bi_degree_node_1, bi_degree_node_2 = build_Features(graph, test_edge_list)\n",
        "# common_inbound_friends, common_outbound_friends, common_friends, friend_measure, inverse_flag, in_degree_node_1, in_degree_node_2, out_degree_node_1, out_degree_node_2, bi_degree_node_1, bi_degree_node_2, shortest_paths, adamic_adar_index, jaccard_similarity_index, preferential_attachment_score, friend_tns, similarity_dice_in, similarity_dice_out, similarity_dice_combined = build_Features(graph, test_edge_list)\n",
        "\n",
        "d_test = {\n",
        "     'inverse_flag': inverse_flag,\n",
        "     'common_inbound_friends' : common_inbound_friends,\n",
        "     'common_outbound_friends' : common_outbound_friends,\n",
        "     'common_friends' : common_friends,\n",
        "     'friend_measure' : friend_measure,\n",
        "     'in-degree source' : in_degree_node_1,\n",
        "     'in-degree destination' : in_degree_node_2,\n",
        "     'out-degree source' : out_degree_node_1,\n",
        "     'out-degree destination' : out_degree_node_2,\n",
        "     'bi-degree source' : bi_degree_node_1,\n",
        "     'bi-degree destination' : bi_degree_node_2,\n",
        "    #  'shortest paths' : shortest_paths,\n",
        "    #  'Adamic adar index' : adamic_adar_index,\n",
        "    #  'Jaccard Similarity index' : jaccard_similarity_index,\n",
        "    #  'preferential_attachment_score' : preferential_attachment_score,\n",
        "    #  'friend_tns' : friend_tns,\n",
        "    #  'similarity dice in' : similarity_dice_in,\n",
        "    #  'similarity dice combined' : similarity_dice_combined,\n",
        "    #  'similarity dice out' : similarity_dice_out,\n",
        "     }\n",
        "\n",
        "\n",
        "df_test = pd.DataFrame(data=d_test)\n",
        "df_test"
      ],
      "execution_count": 34,
      "outputs": [
        {
          "output_type": "stream",
          "text": [
            "2000it [01:18, 25.32it/s]\n"
          ],
          "name": "stderr"
        },
        {
          "output_type": "execute_result",
          "data": {
            "text/html": [
              "<div>\n",
              "<style scoped>\n",
              "    .dataframe tbody tr th:only-of-type {\n",
              "        vertical-align: middle;\n",
              "    }\n",
              "\n",
              "    .dataframe tbody tr th {\n",
              "        vertical-align: top;\n",
              "    }\n",
              "\n",
              "    .dataframe thead th {\n",
              "        text-align: right;\n",
              "    }\n",
              "</style>\n",
              "<table border=\"1\" class=\"dataframe\">\n",
              "  <thead>\n",
              "    <tr style=\"text-align: right;\">\n",
              "      <th></th>\n",
              "      <th>inverse_flag</th>\n",
              "      <th>common_inbound_friends</th>\n",
              "      <th>common_outbound_friends</th>\n",
              "      <th>common_friends</th>\n",
              "      <th>friend_measure</th>\n",
              "      <th>in-degree source</th>\n",
              "      <th>in-degree destination</th>\n",
              "      <th>out-degree source</th>\n",
              "      <th>out-degree destination</th>\n",
              "      <th>bi-degree source</th>\n",
              "      <th>bi-degree destination</th>\n",
              "    </tr>\n",
              "  </thead>\n",
              "  <tbody>\n",
              "    <tr>\n",
              "      <th>0</th>\n",
              "      <td>0</td>\n",
              "      <td>0</td>\n",
              "      <td>0</td>\n",
              "      <td>23</td>\n",
              "      <td>8</td>\n",
              "      <td>3</td>\n",
              "      <td>10</td>\n",
              "      <td>11</td>\n",
              "      <td>0</td>\n",
              "      <td>1</td>\n",
              "      <td>0</td>\n",
              "    </tr>\n",
              "    <tr>\n",
              "      <th>1</th>\n",
              "      <td>0</td>\n",
              "      <td>0</td>\n",
              "      <td>0</td>\n",
              "      <td>56</td>\n",
              "      <td>17</td>\n",
              "      <td>11</td>\n",
              "      <td>6</td>\n",
              "      <td>47</td>\n",
              "      <td>0</td>\n",
              "      <td>8</td>\n",
              "      <td>0</td>\n",
              "    </tr>\n",
              "    <tr>\n",
              "      <th>2</th>\n",
              "      <td>0</td>\n",
              "      <td>2</td>\n",
              "      <td>0</td>\n",
              "      <td>206</td>\n",
              "      <td>283</td>\n",
              "      <td>77</td>\n",
              "      <td>14</td>\n",
              "      <td>147</td>\n",
              "      <td>0</td>\n",
              "      <td>29</td>\n",
              "      <td>0</td>\n",
              "    </tr>\n",
              "    <tr>\n",
              "      <th>3</th>\n",
              "      <td>0</td>\n",
              "      <td>0</td>\n",
              "      <td>0</td>\n",
              "      <td>391</td>\n",
              "      <td>119</td>\n",
              "      <td>12</td>\n",
              "      <td>9</td>\n",
              "      <td>381</td>\n",
              "      <td>0</td>\n",
              "      <td>11</td>\n",
              "      <td>0</td>\n",
              "    </tr>\n",
              "    <tr>\n",
              "      <th>4</th>\n",
              "      <td>0</td>\n",
              "      <td>0</td>\n",
              "      <td>0</td>\n",
              "      <td>17</td>\n",
              "      <td>0</td>\n",
              "      <td>4</td>\n",
              "      <td>2</td>\n",
              "      <td>13</td>\n",
              "      <td>0</td>\n",
              "      <td>2</td>\n",
              "      <td>0</td>\n",
              "    </tr>\n",
              "    <tr>\n",
              "      <th>...</th>\n",
              "      <td>...</td>\n",
              "      <td>...</td>\n",
              "      <td>...</td>\n",
              "      <td>...</td>\n",
              "      <td>...</td>\n",
              "      <td>...</td>\n",
              "      <td>...</td>\n",
              "      <td>...</td>\n",
              "      <td>...</td>\n",
              "      <td>...</td>\n",
              "      <td>...</td>\n",
              "    </tr>\n",
              "    <tr>\n",
              "      <th>1995</th>\n",
              "      <td>0</td>\n",
              "      <td>0</td>\n",
              "      <td>0</td>\n",
              "      <td>37</td>\n",
              "      <td>0</td>\n",
              "      <td>15</td>\n",
              "      <td>0</td>\n",
              "      <td>33</td>\n",
              "      <td>0</td>\n",
              "      <td>11</td>\n",
              "      <td>0</td>\n",
              "    </tr>\n",
              "    <tr>\n",
              "      <th>1996</th>\n",
              "      <td>0</td>\n",
              "      <td>0</td>\n",
              "      <td>0</td>\n",
              "      <td>109</td>\n",
              "      <td>0</td>\n",
              "      <td>47</td>\n",
              "      <td>1</td>\n",
              "      <td>83</td>\n",
              "      <td>0</td>\n",
              "      <td>22</td>\n",
              "      <td>0</td>\n",
              "    </tr>\n",
              "    <tr>\n",
              "      <th>1997</th>\n",
              "      <td>0</td>\n",
              "      <td>0</td>\n",
              "      <td>0</td>\n",
              "      <td>23</td>\n",
              "      <td>2</td>\n",
              "      <td>4</td>\n",
              "      <td>1</td>\n",
              "      <td>20</td>\n",
              "      <td>0</td>\n",
              "      <td>2</td>\n",
              "      <td>0</td>\n",
              "    </tr>\n",
              "    <tr>\n",
              "      <th>1998</th>\n",
              "      <td>0</td>\n",
              "      <td>0</td>\n",
              "      <td>0</td>\n",
              "      <td>38</td>\n",
              "      <td>0</td>\n",
              "      <td>6</td>\n",
              "      <td>0</td>\n",
              "      <td>37</td>\n",
              "      <td>0</td>\n",
              "      <td>5</td>\n",
              "      <td>0</td>\n",
              "    </tr>\n",
              "    <tr>\n",
              "      <th>1999</th>\n",
              "      <td>0</td>\n",
              "      <td>0</td>\n",
              "      <td>0</td>\n",
              "      <td>110</td>\n",
              "      <td>0</td>\n",
              "      <td>2</td>\n",
              "      <td>0</td>\n",
              "      <td>109</td>\n",
              "      <td>0</td>\n",
              "      <td>1</td>\n",
              "      <td>0</td>\n",
              "    </tr>\n",
              "  </tbody>\n",
              "</table>\n",
              "<p>2000 rows × 11 columns</p>\n",
              "</div>"
            ],
            "text/plain": [
              "      inverse_flag  ...  bi-degree destination\n",
              "0                0  ...                      0\n",
              "1                0  ...                      0\n",
              "2                0  ...                      0\n",
              "3                0  ...                      0\n",
              "4                0  ...                      0\n",
              "...            ...  ...                    ...\n",
              "1995             0  ...                      0\n",
              "1996             0  ...                      0\n",
              "1997             0  ...                      0\n",
              "1998             0  ...                      0\n",
              "1999             0  ...                      0\n",
              "\n",
              "[2000 rows x 11 columns]"
            ]
          },
          "metadata": {
            "tags": []
          },
          "execution_count": 34
        }
      ]
    },
    {
      "cell_type": "code",
      "metadata": {
        "id": "Axpyq2e3EQO9",
        "colab_type": "code",
        "colab": {
          "base_uri": "https://localhost:8080/",
          "height": 50
        },
        "outputId": "dec5f1aa-0d6b-425b-c627-959d155dbc70"
      },
      "source": [
        "# retrained the model based on the best one for fitting the test data\n",
        "classifier = eclf\n",
        "steps=[('scaler', scaler), ('clf', classifier)]\n",
        "pipe = Pipeline(steps)  \n",
        "pipe.set_params(**voting_params_score[0][2])\n",
        "pipe.fit(X_train, Y_train)\n",
        "Y_prediction = pipe.predict(X_holdout)\n",
        "y_predicted = pipe.predict_proba(df_test)[:,1]\n",
        "y_predicted\n",
        "#"
      ],
      "execution_count": 35,
      "outputs": [
        {
          "output_type": "execute_result",
          "data": {
            "text/plain": [
              "array([0.23885701, 0.23684216, 0.62491048, ..., 0.23959268, 0.23902469,\n",
              "       0.23369316])"
            ]
          },
          "metadata": {
            "tags": []
          },
          "execution_count": 35
        }
      ]
    },
    {
      "cell_type": "code",
      "metadata": {
        "id": "2gz5h4c2EoAm",
        "colab_type": "code",
        "colab": {}
      },
      "source": [
        "# construct submission file\n",
        "Id = [i for i in range(1, 2001)]\n",
        "data = {\"Id\":Id, \"Predicted\":y_predicted}\n",
        "df_submit = pd.DataFrame(data)\n",
        "df_submit.to_csv(Submission_file_using_XGB_and_AGA, index = False, header=True)"
      ],
      "execution_count": 36,
      "outputs": []
    },
    {
      "cell_type": "code",
      "metadata": {
        "id": "hBdfKQrTE2eF",
        "colab_type": "code",
        "colab": {
          "base_uri": "https://localhost:8080/",
          "height": 642
        },
        "outputId": "8ce3891f-73b7-41eb-f172-9fd752897e11"
      },
      "source": [
        "# voting using RandomForest, KNeighborsClassifier and BaggingClassifier \n",
        "\n",
        "voting_params_score=[]\n",
        "eclf = VotingClassifier(estimators=[ \n",
        "    ('randomForest', RandomForestClassifier()),\n",
        "    ('knn', KNeighborsClassifier()),\n",
        "    ('bagging',BaggingClassifier()),\n",
        "    \n",
        "    ], voting='soft'\n",
        ")\n",
        "\n",
        "#Use the key for the classifier followed by __ and the attribute\n",
        "params = {\n",
        "              'clf__randomForest__n_estimators' : [300],\n",
        "              'clf__randomForest__max_depth' : [8],\n",
        "          \n",
        "              'clf__knn__n_neighbors':[5,10,15],\n",
        "              'clf__knn__p':[2],\n",
        "        \n",
        "              'clf__bagging__n_estimators' : [10,50,100],\n",
        "               \n",
        "         }\n",
        "\n",
        "steps=[('scaler', scaler), ('clf', eclf)]\n",
        "pipe = Pipeline(steps)\n",
        "print(\"Paprameters for the model are: \", pipe.get_params().keys())\n",
        "\n",
        "gs_clf = GridSearchCV(pipe, param_grid=params, cv=5,n_jobs=-1)\n",
        "gs_clf.fit(X_train, Y_train)\n",
        "Y_prediction = gs_clf.predict(X_holdout)\n",
        "voting_params_score.append([eclf,roc_auc_score(Y_holdout, Y_prediction),gs_clf.best_params_])\n",
        "    \n",
        "print(\"--------------------------------------------------------------------------\")\n",
        "print(\"%s\\n\\n\\t\\tAUC score: %s\" % (eclf , roc_auc_score(Y_holdout, Y_prediction)))"
      ],
      "execution_count": 37,
      "outputs": [
        {
          "output_type": "stream",
          "text": [
            "Paprameters for the model are:  dict_keys(['memory', 'steps', 'verbose', 'scaler', 'clf', 'scaler__copy', 'scaler__with_mean', 'scaler__with_std', 'clf__estimators', 'clf__flatten_transform', 'clf__n_jobs', 'clf__voting', 'clf__weights', 'clf__randomForest', 'clf__knn', 'clf__bagging', 'clf__randomForest__bootstrap', 'clf__randomForest__ccp_alpha', 'clf__randomForest__class_weight', 'clf__randomForest__criterion', 'clf__randomForest__max_depth', 'clf__randomForest__max_features', 'clf__randomForest__max_leaf_nodes', 'clf__randomForest__max_samples', 'clf__randomForest__min_impurity_decrease', 'clf__randomForest__min_impurity_split', 'clf__randomForest__min_samples_leaf', 'clf__randomForest__min_samples_split', 'clf__randomForest__min_weight_fraction_leaf', 'clf__randomForest__n_estimators', 'clf__randomForest__n_jobs', 'clf__randomForest__oob_score', 'clf__randomForest__random_state', 'clf__randomForest__verbose', 'clf__randomForest__warm_start', 'clf__knn__algorithm', 'clf__knn__leaf_size', 'clf__knn__metric', 'clf__knn__metric_params', 'clf__knn__n_jobs', 'clf__knn__n_neighbors', 'clf__knn__p', 'clf__knn__weights', 'clf__bagging__base_estimator', 'clf__bagging__bootstrap', 'clf__bagging__bootstrap_features', 'clf__bagging__max_features', 'clf__bagging__max_samples', 'clf__bagging__n_estimators', 'clf__bagging__n_jobs', 'clf__bagging__oob_score', 'clf__bagging__random_state', 'clf__bagging__verbose', 'clf__bagging__warm_start'])\n",
            "--------------------------------------------------------------------------\n",
            "VotingClassifier(estimators=[('randomForest',\n",
            "                              RandomForestClassifier(bootstrap=True,\n",
            "                                                     ccp_alpha=0.0,\n",
            "                                                     class_weight=None,\n",
            "                                                     criterion='gini',\n",
            "                                                     max_depth=None,\n",
            "                                                     max_features='auto',\n",
            "                                                     max_leaf_nodes=None,\n",
            "                                                     max_samples=None,\n",
            "                                                     min_impurity_decrease=0.0,\n",
            "                                                     min_impurity_split=None,\n",
            "                                                     min_samples_leaf=1,\n",
            "                                                     min_samples_split=2,\n",
            "                                                     min_weight_fraction_leaf=0.0,\n",
            "                                                     n_estimators=100,\n",
            "                                                     n_jobs=None...\n",
            "                                                   metric='minkowski',\n",
            "                                                   metric_params=None,\n",
            "                                                   n_jobs=None, n_neighbors=5,\n",
            "                                                   p=2, weights='uniform')),\n",
            "                             ('bagging',\n",
            "                              BaggingClassifier(base_estimator=None,\n",
            "                                                bootstrap=True,\n",
            "                                                bootstrap_features=False,\n",
            "                                                max_features=1.0,\n",
            "                                                max_samples=1.0,\n",
            "                                                n_estimators=10, n_jobs=None,\n",
            "                                                oob_score=False,\n",
            "                                                random_state=None, verbose=0,\n",
            "                                                warm_start=False))],\n",
            "                 flatten_transform=True, n_jobs=None, voting='soft',\n",
            "                 weights=None)\n",
            "\n",
            "\t\tAUC score: 0.9569324812447901\n"
          ],
          "name": "stdout"
        }
      ]
    },
    {
      "cell_type": "code",
      "metadata": {
        "id": "2tvZzXaBFHD_",
        "colab_type": "code",
        "colab": {
          "base_uri": "https://localhost:8080/",
          "height": 50
        },
        "outputId": "9bdfe843-5a4c-48ee-946b-39ffe23afd22"
      },
      "source": [
        "# retrained the model based on the best one for fitting the test data\n",
        "classifier = eclf\n",
        "steps=[('scaler', scaler), ('clf', classifier)]\n",
        "pipe = Pipeline(steps)  \n",
        "pipe.set_params(**voting_params_score[0][2])\n",
        "pipe.fit(X_train, Y_train)\n",
        "Y_prediction = pipe.predict(X_holdout)\n",
        "y_predicted = pipe.predict_proba(df_test)[:,1]\n",
        "y_predicted\n",
        "#"
      ],
      "execution_count": 38,
      "outputs": [
        {
          "output_type": "execute_result",
          "data": {
            "text/plain": [
              "array([5.48823549e-04, 1.30034125e-03, 4.56362427e-01, ...,\n",
              "       1.09193251e-03, 9.52300454e-05, 4.09328652e-04])"
            ]
          },
          "metadata": {
            "tags": []
          },
          "execution_count": 38
        }
      ]
    },
    {
      "cell_type": "code",
      "metadata": {
        "id": "P8p_Cs3ZFKoH",
        "colab_type": "code",
        "colab": {}
      },
      "source": [
        "# construct submission file\n",
        "Id = [i for i in range(1, 2001)]\n",
        "data = {\"Id\":Id, \"Predicted\":y_predicted}\n",
        "df_submit = pd.DataFrame(data)\n",
        "df_submit.to_csv(Submission_file_using_bagging_classifier, index = False, header=True)"
      ],
      "execution_count": 39,
      "outputs": []
    }
  ]
}